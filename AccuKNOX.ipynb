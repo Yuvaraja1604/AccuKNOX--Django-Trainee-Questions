{
  "nbformat": 4,
  "nbformat_minor": 0,
  "metadata": {
    "colab": {
      "provenance": []
    },
    "kernelspec": {
      "name": "python3",
      "display_name": "Python 3"
    },
    "language_info": {
      "name": "python"
    }
  },
  "cells": [
    {
      "cell_type": "code",
      "execution_count": 1,
      "metadata": {
        "colab": {
          "base_uri": "https://localhost:8080/"
        },
        "id": "XaaTYeRdN7tm",
        "outputId": "0a389861-6c11-47d5-c36c-b0d9f12f31ce"
      },
      "outputs": [
        {
          "output_type": "stream",
          "name": "stdout",
          "text": [
            "Collecting django\n",
            "  Downloading Django-5.1.7-py3-none-any.whl.metadata (4.1 kB)\n",
            "Collecting asgiref<4,>=3.8.1 (from django)\n",
            "  Downloading asgiref-3.8.1-py3-none-any.whl.metadata (9.3 kB)\n",
            "Requirement already satisfied: sqlparse>=0.3.1 in /usr/local/lib/python3.11/dist-packages (from django) (0.5.3)\n",
            "Downloading Django-5.1.7-py3-none-any.whl (8.3 MB)\n",
            "\u001b[2K   \u001b[90m━━━━━━━━━━━━━━━━━━━━━━━━━━━━━━━━━━━━━━━━\u001b[0m \u001b[32m8.3/8.3 MB\u001b[0m \u001b[31m29.8 MB/s\u001b[0m eta \u001b[36m0:00:00\u001b[0m\n",
            "\u001b[?25hDownloading asgiref-3.8.1-py3-none-any.whl (23 kB)\n",
            "Installing collected packages: asgiref, django\n",
            "Successfully installed asgiref-3.8.1 django-5.1.7\n"
          ]
        }
      ],
      "source": [
        "pip install django\n"
      ]
    },
    {
      "cell_type": "markdown",
      "source": [
        "                                                                           \n",
        "                                                                            \n",
        "                                                                             Topic: Django Signals"
      ],
      "metadata": {
        "id": "FbuK8q4HZDNQ"
      }
    },
    {
      "cell_type": "markdown",
      "source": [
        "\n",
        "Question 1: By default are django signals executed synchronously or asynchronously? Please\n",
        "support your answer with a code snippet that conclusively proves your stance. The code does\n",
        "not need to be elegant and production ready, we just need to understand your logic\n"
      ],
      "metadata": {
        "id": "Vrm7iTVfXxoe"
      }
    },
    {
      "cell_type": "code",
      "source": [
        "from django.dispatch import Signal, receiver\n",
        "\n",
        "# Define a signal\n",
        "my_signal = Signal()\n",
        "\n",
        "@receiver(my_signal)\n",
        "def my_signal_handler(sender, **kwargs):\n",
        "    print(\"Signal received!\")\n",
        "\n",
        "# Sending the signal\n",
        "print(\"Before sending the signal\")\n",
        "my_signal.send(sender=None)\n",
        "print(\"After sending the signal\")"
      ],
      "metadata": {
        "colab": {
          "base_uri": "https://localhost:8080/"
        },
        "id": "uFkoYAxBOFrw",
        "outputId": "0daed50d-b07f-48e6-d5c0-19310a32ca53"
      },
      "execution_count": 12,
      "outputs": [
        {
          "output_type": "stream",
          "name": "stdout",
          "text": [
            "Before sending the signal\n",
            "Signal received!\n",
            "After sending the signal\n"
          ]
        }
      ]
    },
    {
      "cell_type": "markdown",
      "source": [
        "Explanation:\n",
        "\n",
        "1.   By default, Django signals are executed synchronously. This means that when a signal is sent, the receiver functions are called immediately in the same thread.\n",
        "2.   In the above example, you will see \"Signal received!\" printed immediately after sending the signal, indicating synchronous execution\n",
        "\n"
      ],
      "metadata": {
        "id": "Gs0O14uQYh02"
      }
    },
    {
      "cell_type": "markdown",
      "source": [
        "Question 2: Do django signals run in the same thread as the caller? Please support your\n",
        "answer with a code snippet that conclusively proves your stance. The code does not need to be\n",
        "elegant and production ready, we just need to understand your logic."
      ],
      "metadata": {
        "id": "itwKtd_xZXW5"
      }
    },
    {
      "cell_type": "code",
      "source": [
        "import threading\n",
        "from django.dispatch import Signal, receiver\n",
        "\n",
        "my_signal = Signal()\n",
        "\n",
        "@receiver(my_signal)\n",
        "def my_signal_handler(sender, **kwargs):\n",
        "    print(f\"Signal received in thread: {threading.current_thread().name}\")\n",
        "\n",
        "# Emitting the signal\n",
        "print(f\"Before sending the signal in thread: {threading.current_thread().name}\")\n",
        "my_signal.send(sender=None)\n",
        "print(f\"After sending the signal in thread: {threading.current_thread().name}\")"
      ],
      "metadata": {
        "colab": {
          "base_uri": "https://localhost:8080/"
        },
        "id": "f8fhL4TzOMFc",
        "outputId": "e8dc8190-6ac1-40a1-f4c1-7fbbc47a7a17"
      },
      "execution_count": 3,
      "outputs": [
        {
          "output_type": "stream",
          "name": "stdout",
          "text": [
            "Before sending the signal in thread: MainThread\n",
            "Signal received in thread: MainThread\n",
            "After sending the signal in thread: MainThread\n"
          ]
        }
      ]
    },
    {
      "cell_type": "markdown",
      "source": [
        "Explanation:\n",
        "\n",
        "*   Yes, Django signals run in the same thread as the caller. This means that when a signal is emitted, the connected receivers execute in the same thread.\n",
        "*   The thread name will be the same before and after sending the signal, showing that the signal handler runs in the same thread.\n",
        "\n"
      ],
      "metadata": {
        "id": "WCVGdn3FZg21"
      }
    },
    {
      "cell_type": "markdown",
      "source": [
        "Question 3: By default do django signals run in the same database transaction as the caller?\n",
        "Please support your answer with a code snippet that conclusively proves your stance. The code\n",
        "does not need to be elegant and production ready, we just need to understand your logic."
      ],
      "metadata": {
        "id": "Aws3E6UdZ7DP"
      }
    },
    {
      "cell_type": "code",
      "source": [
        "from django.db import transaction\n",
        "from django.dispatch import Signal, receiver\n",
        "\n",
        "my_signal = Signal()\n",
        "\n",
        "@receiver(my_signal)\n",
        "def my_signal_handler(sender, **kwargs):\n",
        "    print(\"Signal handler executed!\")\n",
        "    # Example of a database operation\n",
        "    # SomeModel.objects.create(field=value)\n",
        "\n",
        "# Using a transaction\n",
        "with transaction.atomic():\n",
        "    print(\"Before sending the signal\")\n",
        "    my_signal.send(sender=None)\n",
        "    print(\"After sending the signal\")"
      ],
      "metadata": {
        "id": "laH7suN3Z_Xa"
      },
      "execution_count": null,
      "outputs": []
    },
    {
      "cell_type": "markdown",
      "source": [
        "Explanation:\n",
        "\n",
        "*   Yes, by default, Django signals run in the same database transaction as the caller. This means that if the signal is triggered during a database operation, it will be part of that same transaction.\n",
        "*   If the transaction is rolled back for any reason, the signal's operations (like database writes) will also be rolled back, showing they are part of the same transaction.\n",
        "\n"
      ],
      "metadata": {
        "id": "Ahar0T0uaJq9"
      }
    },
    {
      "cell_type": "markdown",
      "source": [
        "                                                                           \n",
        "                                                                            \n",
        "                                                                             \n",
        "                                                                              \n",
        "                                                                               \n",
        "                                                                                \n",
        "                                                                                 \n",
        "                                                                                 \n",
        "                                                                                 Topic: Custom Classes in Python       "
      ],
      "metadata": {
        "id": "JkqAZRG7aaR4"
      }
    },
    {
      "cell_type": "markdown",
      "source": [
        "Description: You are tasked with creating a Rectangle class with the following requirements:\n",
        "1. An instance of the Rectangle class requires length:int and width:int to be\n",
        "initialized.\n",
        "2. We can iterate over an instance of the Rectangle class  \n",
        "3. When an instance of the Rectangle class is iterated over, we first get its length in the\n",
        "format: {'length': <VALUE_OF_LENGTH>} followed by the width {width:\n",
        "<VALUE_OF_WIDTH>}"
      ],
      "metadata": {
        "id": "vYHa03OuaquN"
      }
    },
    {
      "cell_type": "code",
      "source": [
        "class Rectangle:\n",
        "    def __init__(self, length: int, width: int):\n",
        "        self.length = length\n",
        "        self.width = width\n",
        "\n",
        "    def __iter__(self):\n",
        "        yield {'length': self.length}\n",
        "        yield {'width': self.width}\n",
        "\n",
        "# Example usage\n",
        "rect = Rectangle(5, 10)\n",
        "for item in rect:\n",
        "    print(item)"
      ],
      "metadata": {
        "colab": {
          "base_uri": "https://localhost:8080/"
        },
        "id": "Jjn_FNZXaxPO",
        "outputId": "b5147b20-1683-4e2c-a7b9-4bfbec303b59"
      },
      "execution_count": 13,
      "outputs": [
        {
          "output_type": "stream",
          "name": "stdout",
          "text": [
            "{'length': 5}\n",
            "{'width': 10}\n"
          ]
        }
      ]
    },
    {
      "cell_type": "markdown",
      "source": [
        "Explanation:\n",
        "\n",
        "*   The __init__ method initializes the length and width attributes of the Rectangle class.\n",
        "*    The __iter__ method is implemented to make the Rectangle class iterable. It yields a dictionary with the 'length' key and the length attribute, followed by a dictionary with the 'width' key and the width attribute.\n",
        "*   When you iterate over an instance of the Rectangle class, it will yield the length and width as expected.\n",
        "\n"
      ],
      "metadata": {
        "id": "qsZyzBK_a2tS"
      }
    }
  ]
}